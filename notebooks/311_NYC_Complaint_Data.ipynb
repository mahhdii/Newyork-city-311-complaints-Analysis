{
 "cells": [
  {
   "cell_type": "code",
   "execution_count": 11,
   "metadata": {},
   "outputs": [],
   "source": [
    "from datetime import datetime\n",
    "import pandas as pd"
   ]
  },
  {
   "cell_type": "code",
   "execution_count": 2,
   "metadata": {},
   "outputs": [],
   "source": [
    "community_districts = {\n",
    "    \"0 Unspecified\":000,\n",
    "    \"01 BRONX\":101,\n",
    "    \"01 BROOKLYN\":201,\n",
    "    \"01 MANHATTAN\":301,\n",
    "    \"01 QUEENS\":401,\n",
    "    \"01 STATEN ISLAND\":501,\n",
    "    \"02 BRONX\":102,\n",
    "    \"02 BROOKLYN\":202,\n",
    "    \"02 MANHATTAN\":302,\n",
    "    \"02 QUEENS\":402,\n",
    "    \"02 STATEN ISLAND\":502,\n",
    "    \"03 BRONX\":103,\n",
    "    \"03 BROOKLYN\":203,\n",
    "    \"03 MANHATTAN\":303,\n",
    "    \"03 QUEENS\":403,\n",
    "    \"03 STATEN ISLAND\":503,\n",
    "    \"04 BRONX\":104,\n",
    "    \"04 BROOKLYN\":204,\n",
    "    \"04 MANHATTAN\":304,\n",
    "    \"04 QUEENS\":404,\n",
    "    \"05 BRONX\":105,\n",
    "    \"05 BROOKLYN\":205,\n",
    "    \"05 MANHATTAN\":305,\n",
    "    \"05 QUEENS\":405,\n",
    "    \"06 BRONX\":106,\n",
    "    \"06 BROOKLYN\":206,\n",
    "    \"06 MANHATTAN\":306,\n",
    "    \"06 QUEENS\":406,\n",
    "    \"07 BRONX\":107,\n",
    "    \"07 BROOKLYN\":207,\n",
    "    \"07 MANHATTAN\":307,\n",
    "    \"07 QUEENS\":407,\n",
    "    \"08 BRONX\":108,\n",
    "    \"08 BROOKLYN\":208,\n",
    "    \"08 MANHATTAN\":308,\n",
    "    \"08 QUEENS\":408,\n",
    "    \"09 BRONX\":109,\n",
    "    \"09 BROOKLYN\":209,\n",
    "    \"09 MANHATTAN\":309,\n",
    "    \"09 QUEENS\":409,\n",
    "    \"10 BRONX\":110,\n",
    "    \"10 BROOKLYN\":210,\n",
    "    \"10 MANHATTAN\":310,\n",
    "    \"10 QUEENS\":410,\n",
    "    \"11 BRONX\":111,\n",
    "    \"11 BROOKLYN\":211,\n",
    "    \"11 MANHATTAN\":311,\n",
    "    \"11 QUEENS\":411,\n",
    "    \"12 BRONX\":112,\n",
    "    \"12 BROOKLYN\":212,\n",
    "    \"12 MANHATTAN\":312,\n",
    "    \"12 QUEENS\":412,\n",
    "    \"13 BROOKLYN\":213,\n",
    "    \"13 QUEENS\":413,\n",
    "    \"14 BROOKLYN\":214,\n",
    "    \"14 QUEENS\":414,\n",
    "    \"15 BROOKLYN\":215,\n",
    "    \"16 BROOKLYN\":216,\n",
    "    \"17 BROOKLYN\":217,\n",
    "    \"18 BROOKLYN\":218,\n",
    "    \"26 BRONX\":100,\n",
    "    \"27 BRONX\":100,\n",
    "    \"28 BRONX\":100,\n",
    "    \"55 BROOKLYN\":200,\n",
    "    \"56 BROOKLYN\":200,\n",
    "    \"64 MANHATTAN\":300,\n",
    "    \"80 QUEENS\":400,\n",
    "    \"81 QUEENS\":400,\n",
    "    \"82 QUEENS\":400,\n",
    "    \"83 QUEENS\":400,\n",
    "    \"84 QUEENS\":400,\n",
    "    \"95 STATEN ISLAND\":500,\n",
    "    \"Unspecified BRONX\":100,\n",
    "    \"Unspecified BROOKLYN\":200,\n",
    "    \"Unspecified MANHATTAN\":300,\n",
    "    \"Unspecified QUEENS\":400,\n",
    "    \"Unspecified STATEN ISLAND\":500\n",
    "    }\n",
    "\n",
    "path = \"../data/311_Complaints/311_Service_Requests_from_2010_to_Present.csv\"\n",
    "\n",
    "use_cols = ['Unique Key', 'Created Date', 'Agency', 'Agency Name',\n",
    "            'Complaint Type', 'Descriptor', 'Location Type', 'Incident Zip',\n",
    "            'Incident Address', 'Street Name', 'City', 'Status', 'Community Board', 'Borough',\n",
    "            'Latitude', 'Longitude', 'Location']\n",
    "\n",
    "dtype_dict = {'Borough':'category', 'Status':'category',\n",
    "              'City':'category', 'Location Type':'category', 'Agency':'category',\n",
    "              'Agency Name':'category', 'Complaint Type':'category',\n",
    "              'Descriptor':'category', 'Incident Zip':\"object\"}\n",
    "\n",
    "custom_date_parser = lambda x: datetime.strptime(x, '%m/%d/%Y %I:%M:%S %p')\n",
    "\n",
    "reader = pd.read_csv(path, usecols=use_cols, dtype=dtype_dict, iterator=True,\n",
    "                     parse_dates=['Created Date'], date_parser=custom_date_parser,\n",
    "                     chunksize=100000)\n",
    "\n",
    "complaint_df = pd.concat(reader, ignore_index=True, copy=False)"
   ]
  },
  {
   "cell_type": "code",
   "execution_count": 3,
   "metadata": {},
   "outputs": [
    {
     "data": {
      "text/plain": [
       "(12039837, 17)"
      ]
     },
     "execution_count": 3,
     "metadata": {},
     "output_type": "execute_result"
    }
   ],
   "source": [
    "complaint_df.shape"
   ]
  },
  {
   "cell_type": "code",
   "execution_count": 4,
   "metadata": {},
   "outputs": [
    {
     "name": "stdout",
     "output_type": "stream",
     "text": [
      "<class 'pandas.core.frame.DataFrame'>\n",
      "RangeIndex: 12039837 entries, 0 to 12039836\n",
      "Data columns (total 17 columns):\n",
      " #   Column            Dtype         \n",
      "---  ------            -----         \n",
      " 0   Unique Key        int64         \n",
      " 1   Created Date      datetime64[ns]\n",
      " 2   Agency            object        \n",
      " 3   Agency Name       object        \n",
      " 4   Complaint Type    object        \n",
      " 5   Descriptor        object        \n",
      " 6   Location Type     object        \n",
      " 7   Incident Zip      object        \n",
      " 8   Incident Address  object        \n",
      " 9   Street Name       object        \n",
      " 10  City              object        \n",
      " 11  Status            object        \n",
      " 12  Community Board   object        \n",
      " 13  Borough           category      \n",
      " 14  Latitude          float64       \n",
      " 15  Longitude         float64       \n",
      " 16  Location          object        \n",
      "dtypes: category(1), datetime64[ns](1), float64(2), int64(1), object(12)\n",
      "memory usage: 1.4+ GB\n"
     ]
    }
   ],
   "source": [
    "complaint_df.info()"
   ]
  },
  {
   "cell_type": "code",
   "execution_count": 5,
   "metadata": {},
   "outputs": [
    {
     "data": {
      "text/plain": [
       "Unique Key                0\n",
       "Created Date              0\n",
       "Agency                    0\n",
       "Agency Name               0\n",
       "Complaint Type            0\n",
       "Descriptor           157203\n",
       "Location Type       2841459\n",
       "Incident Zip         655619\n",
       "Incident Address    2150402\n",
       "Street Name         2150997\n",
       "City                 653282\n",
       "Status                    0\n",
       "Community Board           0\n",
       "Borough                   0\n",
       "Latitude            1455828\n",
       "Longitude           1455828\n",
       "Location            1455828\n",
       "dtype: int64"
      ]
     },
     "execution_count": 5,
     "metadata": {},
     "output_type": "execute_result"
    }
   ],
   "source": [
    "complaint_df.isnull().sum()"
   ]
  },
  {
   "cell_type": "code",
   "execution_count": 7,
   "metadata": {},
   "outputs": [
    {
     "data": {
      "text/html": [
       "<div>\n",
       "<style scoped>\n",
       "    .dataframe tbody tr th:only-of-type {\n",
       "        vertical-align: middle;\n",
       "    }\n",
       "\n",
       "    .dataframe tbody tr th {\n",
       "        vertical-align: top;\n",
       "    }\n",
       "\n",
       "    .dataframe thead th {\n",
       "        text-align: right;\n",
       "    }\n",
       "</style>\n",
       "<table border=\"1\" class=\"dataframe\">\n",
       "  <thead>\n",
       "    <tr style=\"text-align: right;\">\n",
       "      <th></th>\n",
       "      <th>Unique Key</th>\n",
       "      <th>Created Date</th>\n",
       "      <th>Agency</th>\n",
       "      <th>Agency Name</th>\n",
       "      <th>Complaint Type</th>\n",
       "      <th>Descriptor</th>\n",
       "      <th>Location Type</th>\n",
       "      <th>Incident Zip</th>\n",
       "      <th>Incident Address</th>\n",
       "      <th>Street Name</th>\n",
       "      <th>City</th>\n",
       "      <th>Status</th>\n",
       "      <th>Community Board</th>\n",
       "      <th>Borough</th>\n",
       "      <th>Latitude</th>\n",
       "      <th>Longitude</th>\n",
       "      <th>Location</th>\n",
       "    </tr>\n",
       "  </thead>\n",
       "  <tbody>\n",
       "    <tr>\n",
       "      <th>0</th>\n",
       "      <td>27025469</td>\n",
       "      <td>2014-01-01</td>\n",
       "      <td>HPD</td>\n",
       "      <td>Department of Housing Preservation and Develop...</td>\n",
       "      <td>NONCONST</td>\n",
       "      <td>VERMIN</td>\n",
       "      <td>RESIDENTIAL BUILDING</td>\n",
       "      <td>11213</td>\n",
       "      <td>187 ROCHESTER AVENUE</td>\n",
       "      <td>ROCHESTER AVENUE</td>\n",
       "      <td>BROOKLYN</td>\n",
       "      <td>Closed</td>\n",
       "      <td>Unspecified BROOKLYN</td>\n",
       "      <td>BROOKLYN</td>\n",
       "      <td>NaN</td>\n",
       "      <td>NaN</td>\n",
       "      <td>NaN</td>\n",
       "    </tr>\n",
       "    <tr>\n",
       "      <th>1</th>\n",
       "      <td>27025673</td>\n",
       "      <td>2014-01-01</td>\n",
       "      <td>HPD</td>\n",
       "      <td>Department of Housing Preservation and Develop...</td>\n",
       "      <td>ELECTRIC</td>\n",
       "      <td>ELECTRIC-SUPPLY</td>\n",
       "      <td>RESIDENTIAL BUILDING</td>\n",
       "      <td>10455</td>\n",
       "      <td>471 BROOK AVENUE</td>\n",
       "      <td>BROOK AVENUE</td>\n",
       "      <td>BRONX</td>\n",
       "      <td>Closed</td>\n",
       "      <td>01 BRONX</td>\n",
       "      <td>BRONX</td>\n",
       "      <td>NaN</td>\n",
       "      <td>NaN</td>\n",
       "      <td>NaN</td>\n",
       "    </tr>\n",
       "    <tr>\n",
       "      <th>2</th>\n",
       "      <td>27026948</td>\n",
       "      <td>2014-01-01</td>\n",
       "      <td>HPD</td>\n",
       "      <td>Department of Housing Preservation and Develop...</td>\n",
       "      <td>HEATING</td>\n",
       "      <td>HEAT</td>\n",
       "      <td>RESIDENTIAL BUILDING</td>\n",
       "      <td>10027</td>\n",
       "      <td>118 WEST 120 STREET</td>\n",
       "      <td>WEST 120 STREET</td>\n",
       "      <td>NEW YORK</td>\n",
       "      <td>Closed</td>\n",
       "      <td>10 MANHATTAN</td>\n",
       "      <td>MANHATTAN</td>\n",
       "      <td>NaN</td>\n",
       "      <td>NaN</td>\n",
       "      <td>NaN</td>\n",
       "    </tr>\n",
       "    <tr>\n",
       "      <th>3</th>\n",
       "      <td>27028043</td>\n",
       "      <td>2014-01-01</td>\n",
       "      <td>HPD</td>\n",
       "      <td>Department of Housing Preservation and Develop...</td>\n",
       "      <td>GENERAL CONSTRUCTION</td>\n",
       "      <td>FLOOR</td>\n",
       "      <td>RESIDENTIAL BUILDING</td>\n",
       "      <td>11203</td>\n",
       "      <td>1084 NEW YORK AVENUE</td>\n",
       "      <td>NEW YORK AVENUE</td>\n",
       "      <td>BROOKLYN</td>\n",
       "      <td>Closed</td>\n",
       "      <td>17 BROOKLYN</td>\n",
       "      <td>BROOKLYN</td>\n",
       "      <td>NaN</td>\n",
       "      <td>NaN</td>\n",
       "      <td>NaN</td>\n",
       "    </tr>\n",
       "    <tr>\n",
       "      <th>4</th>\n",
       "      <td>27019812</td>\n",
       "      <td>2014-01-01</td>\n",
       "      <td>HPD</td>\n",
       "      <td>Department of Housing Preservation and Develop...</td>\n",
       "      <td>HEATING</td>\n",
       "      <td>HEAT</td>\n",
       "      <td>RESIDENTIAL BUILDING</td>\n",
       "      <td>10032</td>\n",
       "      <td>570 WEST 156 STREET</td>\n",
       "      <td>WEST 156 STREET</td>\n",
       "      <td>NEW YORK</td>\n",
       "      <td>Closed</td>\n",
       "      <td>12 MANHATTAN</td>\n",
       "      <td>MANHATTAN</td>\n",
       "      <td>NaN</td>\n",
       "      <td>NaN</td>\n",
       "      <td>NaN</td>\n",
       "    </tr>\n",
       "  </tbody>\n",
       "</table>\n",
       "</div>"
      ],
      "text/plain": [
       "   Unique Key Created Date Agency  \\\n",
       "0    27025469   2014-01-01    HPD   \n",
       "1    27025673   2014-01-01    HPD   \n",
       "2    27026948   2014-01-01    HPD   \n",
       "3    27028043   2014-01-01    HPD   \n",
       "4    27019812   2014-01-01    HPD   \n",
       "\n",
       "                                         Agency Name        Complaint Type  \\\n",
       "0  Department of Housing Preservation and Develop...              NONCONST   \n",
       "1  Department of Housing Preservation and Develop...              ELECTRIC   \n",
       "2  Department of Housing Preservation and Develop...               HEATING   \n",
       "3  Department of Housing Preservation and Develop...  GENERAL CONSTRUCTION   \n",
       "4  Department of Housing Preservation and Develop...               HEATING   \n",
       "\n",
       "        Descriptor         Location Type Incident Zip      Incident Address  \\\n",
       "0           VERMIN  RESIDENTIAL BUILDING        11213  187 ROCHESTER AVENUE   \n",
       "1  ELECTRIC-SUPPLY  RESIDENTIAL BUILDING        10455      471 BROOK AVENUE   \n",
       "2             HEAT  RESIDENTIAL BUILDING        10027   118 WEST 120 STREET   \n",
       "3            FLOOR  RESIDENTIAL BUILDING        11203  1084 NEW YORK AVENUE   \n",
       "4             HEAT  RESIDENTIAL BUILDING        10032   570 WEST 156 STREET   \n",
       "\n",
       "        Street Name      City  Status       Community Board    Borough  \\\n",
       "0  ROCHESTER AVENUE  BROOKLYN  Closed  Unspecified BROOKLYN   BROOKLYN   \n",
       "1      BROOK AVENUE     BRONX  Closed              01 BRONX      BRONX   \n",
       "2   WEST 120 STREET  NEW YORK  Closed          10 MANHATTAN  MANHATTAN   \n",
       "3   NEW YORK AVENUE  BROOKLYN  Closed           17 BROOKLYN   BROOKLYN   \n",
       "4   WEST 156 STREET  NEW YORK  Closed          12 MANHATTAN  MANHATTAN   \n",
       "\n",
       "   Latitude  Longitude Location  \n",
       "0       NaN        NaN      NaN  \n",
       "1       NaN        NaN      NaN  \n",
       "2       NaN        NaN      NaN  \n",
       "3       NaN        NaN      NaN  \n",
       "4       NaN        NaN      NaN  "
      ]
     },
     "execution_count": 7,
     "metadata": {},
     "output_type": "execute_result"
    }
   ],
   "source": [
    "complaint_df.head(5)"
   ]
  },
  {
   "cell_type": "code",
   "execution_count": 13,
   "metadata": {},
   "outputs": [
    {
     "data": {
      "text/plain": [
       "New York City Police Department                       3216685\n",
       "Department of Housing Preservation and Development    3020790\n",
       "Department of Transportation                          1553739\n",
       "Department of Environmental Protection                 934900\n",
       "Department of Buildings                                625994\n",
       "Department of Parks and Recreation                     495198\n",
       "Department of Sanitation                               350639\n",
       "Department of Health and Mental Hygiene                309712\n",
       "Taxi and Limousine Commission                          127941\n",
       "BCC - Brooklyn South                                    98387\n",
       "Name: Agency Name, dtype: int64"
      ]
     },
     "execution_count": 13,
     "metadata": {},
     "output_type": "execute_result"
    }
   ],
   "source": [
    "#Top 10 Agency name by complaint count\n",
    "complaint_df[\"Agency Name\"].value_counts().head(10)"
   ]
  },
  {
   "cell_type": "code",
   "execution_count": 15,
   "metadata": {},
   "outputs": [
    {
     "data": {
      "text/plain": [
       "11226    203761\n",
       "10467    169785\n",
       "11385    151594\n",
       "11207    150290\n",
       "10458    144471\n",
       "10453    143244\n",
       "10468    138834\n",
       "11221    136754\n",
       "11208    136117\n",
       "10452    134045\n",
       "Name: Incident Zip, dtype: int64"
      ]
     },
     "execution_count": 15,
     "metadata": {},
     "output_type": "execute_result"
    }
   ],
   "source": [
    "complaint_df[\"Incident Zip\"].value_counts().head(10)"
   ]
  },
  {
   "cell_type": "code",
   "execution_count": 16,
   "metadata": {},
   "outputs": [
    {
     "data": {
      "text/plain": [
       "Noise - Residential        1069966\n",
       "HEAT/HOT WATER             1023062\n",
       "Illegal Parking             587617\n",
       "Blocked Driveway            572070\n",
       "Street Condition            526448\n",
       "Street Light Condition      442116\n",
       "UNSANITARY CONDITION        390705\n",
       "Water System                341570\n",
       "PAINT/PLASTER               309995\n",
       "Noise - Street/Sidewalk     295592\n",
       "Name: Complaint Type, dtype: int64"
      ]
     },
     "execution_count": 16,
     "metadata": {},
     "output_type": "execute_result"
    }
   ],
   "source": [
    "complaint_df[\"Complaint Type\"].value_counts().head(10)"
   ]
  }
 ],
 "metadata": {
  "kernelspec": {
   "display_name": "Python 3",
   "language": "python",
   "name": "python3"
  },
  "language_info": {
   "codemirror_mode": {
    "name": "ipython",
    "version": 3
   },
   "file_extension": ".py",
   "mimetype": "text/x-python",
   "name": "python",
   "nbconvert_exporter": "python",
   "pygments_lexer": "ipython3",
   "version": "3.6.1"
  }
 },
 "nbformat": 4,
 "nbformat_minor": 2
}
